{
  "nbformat": 4,
  "nbformat_minor": 0,
  "metadata": {
    "colab": {
      "provenance": [],
      "authorship_tag": "ABX9TyP9izS82IrDxGK/979HcMED",
      "include_colab_link": true
    },
    "kernelspec": {
      "name": "python3",
      "display_name": "Python 3"
    },
    "language_info": {
      "name": "python"
    }
  },
  "cells": [
    {
      "cell_type": "markdown",
      "metadata": {
        "id": "view-in-github",
        "colab_type": "text"
      },
      "source": [
        "<a href=\"https://colab.research.google.com/github/JuliaZakhar4enko/06_Final_Task_Block1/blob/master/Untitled0.ipynb\" target=\"_parent\"><img src=\"https://colab.research.google.com/assets/colab-badge.svg\" alt=\"Open In Colab\"/></a>"
      ]
    },
    {
      "cell_type": "code",
      "execution_count": 1,
      "metadata": {
        "colab": {
          "base_uri": "https://localhost:8080/"
        },
        "id": "tbYthZgALWOj",
        "outputId": "3c9e108e-d649-4b6f-9fd6-27fecf15784f"
      },
      "outputs": [
        {
          "output_type": "execute_result",
          "data": {
            "text/plain": [
              "{'name': 'John', 'age': 25}"
            ]
          },
          "metadata": {},
          "execution_count": 1
        }
      ],
      "source": [
        "client_dict = {\n",
        "    \"name\": \"John\",\n",
        "    \"age\": 25,\n",
        "    \"salary\": 5000,\n",
        "    \"city\": \"Moscow\"\n",
        "}\n",
        "keys = ['name', 'age']\n",
        "def get_keys(base_dict: dict, keys: list=['name', 'age']) -> dict:\n",
        "    res = {}\n",
        "    for k in keys:\n",
        "        res.update(\n",
        "        {\n",
        "            k: base_dict[k]\n",
        "        })\n",
        "    return res\n",
        "\n",
        "get_keys(client_dict)"
      ]
    },
    {
      "cell_type": "code",
      "source": [
        "dict1 = {'One': 1, 'Two': 2, 'Three': 3}\n",
        "dict2 = {'Four': 4, 'Five': 5, 'Six': 6}\n",
        "\n",
        "dict1.update(dict2)\n",
        "dict1\n",
        "def merge_dict(dict1: dict, dict2: dict) -> dict:\n",
        "    dict1.update(dict2)\n",
        "    return dict1\n",
        "\n",
        "dict1 = {'One': 1, 'Two': 2, 'Three': 3}\n",
        "dict2 = {'Four': 4, 'Five': 5, 'Six': 6}\n",
        "merge_dict(dict1, dict2)"
      ],
      "metadata": {
        "colab": {
          "base_uri": "https://localhost:8080/"
        },
        "id": "VpRM3pB8Me3a",
        "outputId": "0ba29f74-c657-49b2-aeb0-b36b1439026e"
      },
      "execution_count": 2,
      "outputs": [
        {
          "output_type": "execute_result",
          "data": {
            "text/plain": [
              "{'One': 1, 'Two': 2, 'Three': 3, 'Four': 4, 'Five': 5, 'Six': 6}"
            ]
          },
          "metadata": {},
          "execution_count": 2
        }
      ]
    },
    {
      "cell_type": "code",
      "source": [
        "keys = ['One', 'Two', 'Three']\n",
        "values = [1, 2, 3]\n",
        "def get_dict(keys: list, values: list) -> dict:\n",
        "    res_dict = {}\n",
        "    for i in range(len(keys)):\n",
        "        res_dict.update({\n",
        "            keys[i]: values[i]\n",
        "        })\n",
        "    return res_dict\n",
        "\n",
        "get_dict(keys, values)"
      ],
      "metadata": {
        "colab": {
          "base_uri": "https://localhost:8080/"
        },
        "id": "1CFUtcl9Mo6V",
        "outputId": "29449cec-01f9-4ccd-d6e2-2aaa4a47e84b"
      },
      "execution_count": 3,
      "outputs": [
        {
          "output_type": "execute_result",
          "data": {
            "text/plain": [
              "{'One': 1, 'Two': 2, 'Three': 3}"
            ]
          },
          "metadata": {},
          "execution_count": 3
        }
      ]
    },
    {
      "cell_type": "code",
      "source": [
        "def get_dict(keys: list, values: list) -> dict:\n",
        "    return {keys[i]: values[i] for i in range(len(values))}\n",
        "\n",
        "get_dict(keys, values)\n",
        "client_dict = {\n",
        "    \"name\": \"John\",\n",
        "    \"age\": 25,\n",
        "    \"salary\": 5000,\n",
        "    \"city\": \"Moscow\"\n",
        "}\n",
        "keys = ['name', 'age']\n",
        "\n",
        "\n",
        "def get_keys(base_dict: dict, keys: list=['name', 'age']) -> dict:\n",
        "    res = {}\n",
        "    for k in keys:\n",
        "        res.update(\n",
        "        {\n",
        "            k: base_dict[k]\n",
        "        })\n",
        "    return res\n",
        "\n",
        "get_keys(client_dict)"
      ],
      "metadata": {
        "colab": {
          "base_uri": "https://localhost:8080/"
        },
        "id": "FA-QoY1xM7W2",
        "outputId": "ba396005-8952-4557-9a56-9ed9015bf75f"
      },
      "execution_count": 4,
      "outputs": [
        {
          "output_type": "execute_result",
          "data": {
            "text/plain": [
              "{'name': 'John', 'age': 25}"
            ]
          },
          "metadata": {},
          "execution_count": 4
        }
      ]
    },
    {
      "cell_type": "code",
      "source": [
        "\n",
        "\n",
        "new_dict = {i: client_dict[i] for i in keys}\n",
        "new_dict"
      ],
      "metadata": {
        "colab": {
          "base_uri": "https://localhost:8080/"
        },
        "id": "LcpRr4qpNQWz",
        "outputId": "3f576011-d16e-4237-9e44-3558af11104b"
      },
      "execution_count": 5,
      "outputs": [
        {
          "output_type": "execute_result",
          "data": {
            "text/plain": [
              "{'name': 'John', 'age': 25}"
            ]
          },
          "metadata": {},
          "execution_count": 5
        }
      ]
    },
    {
      "cell_type": "markdown",
      "source": [
        "<img src=https://img.freepik.com/free-photo/a-digital-painting-of-a-mountain-with-a-colorful-tree-in-the-foreground_1340-25699.jpg width=300>\n"
      ],
      "metadata": {
        "id": "kfDn-ONfPa4d"
      }
    },
    {
      "cell_type": "markdown",
      "source": [
        "<table>\n",
        "    <tr>\n",
        "        <td> </td>\n",
        "        <td>До события</td>\n",
        "        <td>Во время события</td>\n",
        "    </tr>\n",
        "    <tr>\n",
        "        <td>1 контрольная точка</td>\n",
        "        <td>250</td>\n",
        "        <td>500</td>\n",
        "    </tr>\n",
        "    <tr>\n",
        "        <td>2 контрольная точка</td>\n",
        "        <td>300</td>\n",
        "        <td>600</td>\n",
        "    </tr>\n",
        "    <tr>\n",
        "        <td>3 контрольная точка</td>\n",
        "        <td>350</td>\n",
        "        <td>700</td>\n",
        "    </tr>\n",
        "    <tr>\n",
        "        <td>Итог</td>\n",
        "        <td>1000</td>\n",
        "        <td>2000</td>\n",
        "    </tr>\n",
        "</table>\n"
      ],
      "metadata": {
        "id": "WOcTOYlJPd5p"
      }
    },
    {
      "cell_type": "markdown",
      "source": [
        "Напишите функцию, которая может принимать любое количество трат пользователя и считать сумму и среднее.\n",
        "\n",
        "На вход поступают целочисленные значения в любом количестве\n",
        "На выходе словарь с ключами суммы трат и средней траты\n"
      ],
      "metadata": {
        "id": "P0sk_tLbQXRE"
      }
    },
    {
      "cell_type": "code",
      "source": [
        "def calc(*args):\n",
        "    sumn = sum(args)\n",
        "    lenN = len(args)\n",
        "    return {\n",
        "        'sum': sumn,\n",
        "        'avg': sumn / lenN\n",
        "    }\n",
        "\n",
        "calc(1, 2, 3, 4, 5, 6, 7, 8, 9)\n",
        "\n"
      ],
      "metadata": {
        "colab": {
          "base_uri": "https://localhost:8080/"
        },
        "id": "q3UX3sjRQYvK",
        "outputId": "4d81b8a9-b40f-4a88-b4af-e7291050f5ec"
      },
      "execution_count": 6,
      "outputs": [
        {
          "output_type": "execute_result",
          "data": {
            "text/plain": [
              "{'sum': 45, 'avg': 5.0}"
            ]
          },
          "metadata": {},
          "execution_count": 6
        }
      ]
    },
    {
      "cell_type": "markdown",
      "source": [
        "4.1 Cгенерируйте случайные целые числа от 0 до 100 в количестве 5 штук с помощью модуля random\n",
        "Зафиксируйте псевдогенерацию, чтобы сгенерированные значения всегда были одинаковые\n",
        "Используйте list comprehensions\n"
      ],
      "metadata": {
        "id": "Xf5G4NeTQvMs"
      }
    },
    {
      "cell_type": "code",
      "source": [
        "import random\n",
        "random.seed(17)\n",
        "\n",
        "num = [random.randint(0, 100) for i in range(5)]\n",
        "num\n"
      ],
      "metadata": {
        "colab": {
          "base_uri": "https://localhost:8080/"
        },
        "id": "frq0ladOQx_i",
        "outputId": "145aa510-f3fe-408b-8acd-f21a88910c87"
      },
      "execution_count": 7,
      "outputs": [
        {
          "output_type": "execute_result",
          "data": {
            "text/plain": [
              "[66, 53, 38, 46, 37]"
            ]
          },
          "metadata": {},
          "execution_count": 7
        }
      ]
    },
    {
      "cell_type": "markdown",
      "source": [
        "4.2* Напишите генератор\n",
        "Генератор на вход принимает список с данными о клиенте (данные из пункта 4.1)\n",
        "Внутри генератора реализуйте обход по списку с данными\n",
        "На каждой итерации генератор будет возвращать кортеж из двух элементов:\n",
        "\n",
        "данные по клиенту (в зависимости от итерации, на 0 итерации вернется 0 элемент, на 1 итерации вернется 1 элемент и тд)\n",
        "целочисленное значение, которое показывает, сколько секунд прошло с предыдущей итерации\n",
        "Примечание: секунды, которые возвращаются должны показывать время не с начала запуска генератора, а именно то время, которое прошло с предыдущей итерации. А значит время на первой итерации должно равняться 0.\n",
        "\n",
        "Используйте функцию time из модуля time для подсчета времени.\n",
        "Чтобы проверить работу таймера, запустите проход по генератору в цикле с time.sleep(2)"
      ],
      "metadata": {
        "id": "jHlVeWf_Rkfh"
      }
    },
    {
      "cell_type": "code",
      "source": [
        "import time\n",
        "\n",
        "def generator(data):\n",
        "    last_time = None\n",
        "\n",
        "    for i in data:\n",
        "        current_time = time.time()\n",
        "\n",
        "        if last_time:\n",
        "            delta = current_time  - last_time\n",
        "        else:\n",
        "            delta = current_time - current_time\n",
        "\n",
        "        last_time = time.time()\n",
        "        yield(int(delta), i)\n",
        ""
      ],
      "metadata": {
        "id": "gh75LujfRmkq"
      },
      "execution_count": 8,
      "outputs": []
    },
    {
      "cell_type": "code",
      "source": [
        "for t in generator(num):\n",
        "    print(t)\n",
        "    time.sleep(2)"
      ],
      "metadata": {
        "colab": {
          "base_uri": "https://localhost:8080/"
        },
        "id": "9mYW6ROxS97I",
        "outputId": "7c4fb753-b050-428a-80ff-9f818764ce22"
      },
      "execution_count": 9,
      "outputs": [
        {
          "output_type": "stream",
          "name": "stdout",
          "text": [
            "(0, 66)\n",
            "(2, 53)\n",
            "(2, 38)\n",
            "(2, 46)\n",
            "(2, 37)\n"
          ]
        }
      ]
    }
  ]
}